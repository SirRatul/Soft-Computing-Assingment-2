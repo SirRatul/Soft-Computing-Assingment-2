{
  "nbformat": 4,
  "nbformat_minor": 0,
  "metadata": {
    "colab": {
      "name": "170104080_exp_02.ipynb",
      "provenance": [],
      "collapsed_sections": []
    },
    "kernelspec": {
      "name": "python3",
      "display_name": "Python 3"
    },
    "language_info": {
      "name": "python"
    },
    "accelerator": "GPU"
  },
  "cells": [
    {
      "cell_type": "markdown",
      "metadata": {
        "id": "IU2vVOns0lmz"
      },
      "source": [
        "\n",
        "\n",
        "> Notebook Prepared by: Samsul Islam\n",
        "\n",
        "\n",
        "> Course Teacher: Sanzana Karim Lora\n",
        "\n",
        "\n",
        "\n"
      ]
    },
    {
      "cell_type": "code",
      "metadata": {
        "colab": {
          "base_uri": "https://localhost:8080/"
        },
        "id": "ozf-qRubmelG",
        "outputId": "c656e24e-0f63-4fae-8892-6fcd8b3dbce4"
      },
      "source": [
        "from google.colab import drive\n",
        "\n",
        "drive.mount('/content/drive')\n",
        "\n",
        "root_path = '/content/drive/MyDrive/4.2/CSE 4238 - Soft Computing Lab/Assignment 2/'"
      ],
      "execution_count": null,
      "outputs": [
        {
          "output_type": "stream",
          "name": "stdout",
          "text": [
            "Mounted at /content/drive\n"
          ]
        }
      ]
    },
    {
      "cell_type": "markdown",
      "metadata": {
        "id": "sKNvEPfDHQFP"
      },
      "source": [
        "# Import Library"
      ]
    },
    {
      "cell_type": "code",
      "metadata": {
        "id": "7TYWfYCnZPun"
      },
      "source": [
        "import numpy as np\n",
        "import pandas as pd\n",
        "import matplotlib\n",
        "import matplotlib.pyplot as plt\n",
        "import os\n",
        "import torch\n",
        "import torch.nn as nn\n",
        "import torch.nn.functional as F\n",
        "from torch.utils.data import Dataset\n",
        "from torch.utils.data.sampler import SubsetRandomSampler\n",
        "from torchvision import datasets, transforms\n",
        "from PIL import Image\n",
        "from sklearn.metrics import accuracy_score\n",
        "from sklearn.metrics import confusion_matrix\n",
        "from sklearn.metrics import f1_score\n",
        "from sklearn.metrics import precision_score\n",
        "from sklearn.metrics import recall_score\n",
        "from sklearn.model_selection import train_test_split"
      ],
      "execution_count": null,
      "outputs": []
    },
    {
      "cell_type": "markdown",
      "metadata": {
        "id": "qtsiAeLAt2Sm"
      },
      "source": [
        "# Confusion Matrix"
      ]
    },
    {
      "cell_type": "code",
      "metadata": {
        "id": "7Tqi81ASt9c1"
      },
      "source": [
        "def plot_confusion_matrix(cm, classes):\n",
        "  plt.imshow(cm, interpolation='nearest', cmap=plt.cm.Blues)\n",
        "  plt.title('Confusion matrix')\n",
        "  plt.colorbar()\n",
        "  tick_marks = np.arange(len(classes))\n",
        "  plt.xticks(tick_marks, classes, rotation=45)\n",
        "  plt.yticks(tick_marks, classes)\n",
        "\n",
        "  thresh = cm.max() / 2.\n",
        "  for i in range (cm.shape[0]):\n",
        "    for j in range (cm.shape[1]):\n",
        "      plt.text(j, i, cm[i, j], horizontalalignment=\"center\", color=\"white\" if cm[i, j] > thresh else \"black\")\n",
        "      plt.tight_layout()\n",
        "      plt.ylabel('True label')\n",
        "      plt.xlabel('Predicted label')"
      ],
      "execution_count": null,
      "outputs": []
    },
    {
      "cell_type": "markdown",
      "metadata": {
        "id": "fABdi2jbhHN-"
      },
      "source": [
        "# Prediction"
      ]
    },
    {
      "cell_type": "code",
      "metadata": {
        "id": "V8kVyAzOjsAr"
      },
      "source": [
        "def get_all_prediction(loader, device, model):\n",
        "  predictions_list = torch.tensor([], dtype=torch.int32)\n",
        "  labels_list = torch.tensor([], dtype=torch.int32)\n",
        "  for i, (images, labels) in enumerate(loader):\n",
        "    images = images.view(-1, 28*28).to(device)\n",
        "    labels = labels.to(device)\n",
        "\n",
        "    # Forward pass only to get logits/output\n",
        "    outputs = model(images)\n",
        "\n",
        "    # Get predictions from the maximum value\n",
        "    _, predictions = torch.max(outputs, 1)\n",
        "    predictions_list = torch.cat((predictions_list, predictions.cpu()), dim = 0)\n",
        "    labels_list = torch.cat((labels_list.cpu(), labels.cpu()), dim = 0).to(device)\n",
        "  return predictions_list, labels_list.cpu()"
      ],
      "execution_count": null,
      "outputs": []
    },
    {
      "cell_type": "markdown",
      "metadata": {
        "id": "pSyejI8Shty9"
      },
      "source": [
        "# Train"
      ]
    },
    {
      "cell_type": "code",
      "metadata": {
        "id": "50AqsalZRlG7"
      },
      "source": [
        "def train(train_dataset, test_dataset, experiment_number):\n",
        "  # Hyperparameters\n",
        "\n",
        "  batch_size = 128\n",
        "  num_iters = 20000\n",
        "  input_dim = 28*28 # num_features = 784\n",
        "  num_hidden = 300 # num of hidden nodes\n",
        "  output_dim = 10\n",
        "\n",
        "  learning_rate = 0.001  # More power so we can learn faster! previously it was 0.001\n",
        "\n",
        "  startingEpoch = 0\n",
        "  iteration_loss = []\n",
        "  iter = 0\n",
        "\n",
        "  # Device\n",
        "  device = torch.device(\"cuda:0\" if torch.cuda.is_available() else \"cpu\")\n",
        "\n",
        "  X_data = train_dataset.drop(\"label\", axis=1).values.astype(np.uint8)\n",
        "  y_data = train_dataset[\"label\"].values.astype(np.uint8)\n",
        "\n",
        "  X_test = test_dataset.drop(\"label\", axis=1).values.astype(np.uint8)\n",
        "  y_test = test_dataset[\"label\"].values.astype(np.uint8)\n",
        "\n",
        "  class DigitRecognizerDataset(Dataset):\n",
        "    def __init__(self, X, y, transforms):\n",
        "      self.X = X\n",
        "      self.y = y\n",
        "      self.transforms = transforms\n",
        "\n",
        "    def __len__(self):\n",
        "      return self.X.shape[0]\n",
        "\n",
        "    def __getitem__(self, idx):\n",
        "      X = np.reshape(self.X[idx], (28, 28, 1))\n",
        "      X = self.transforms(X)\n",
        "      return X, self.y[idx]\n",
        "  \n",
        "  transform_test = transforms.Compose([\n",
        "    transforms.ToTensor(),\n",
        "    transforms.Normalize((0.5,), (0.5,))\n",
        "  ])\n",
        "\n",
        "  train_dataset = DigitRecognizerDataset(X=X_data, y=y_data, transforms=transform_test)\n",
        "  test_dataset = DigitRecognizerDataset(X=X_test, y=y_test, transforms=transform_test)\n",
        "\n",
        "  num_epochs = num_iters / (len(train_dataset) / batch_size)\n",
        "  num_epochs = int(num_epochs)\n",
        "\n",
        "  # prepare loaders\n",
        "  train_loader = torch.utils.data.DataLoader(dataset=train_dataset, \n",
        "                                            batch_size=batch_size, \n",
        "                                            shuffle=True)   # It's better to shuffle the whole training dataset! \n",
        "\n",
        "  test_loader = torch.utils.data.DataLoader(dataset=test_dataset, \n",
        "                                            batch_size=batch_size, \n",
        "                                            shuffle=False) \n",
        "  \n",
        "  class DeepNeuralNetworkModel(nn.Module):\n",
        "    def __init__(self, input_size, num_classes):\n",
        "      super().__init__()      \n",
        "      ### 1st hidden layer: 784 --> 300\n",
        "      self.linear_1 = nn.Linear(input_size, num_hidden)\n",
        "      ### Non-linearity in 1st hidden layer\n",
        "      self.relu_1 = nn.ReLU()\n",
        "\n",
        "      ### Output layer: 300 --> 10\n",
        "      self.linear_out = nn.Linear(num_hidden, num_classes)\n",
        "    \n",
        "    def forward(self, x):\n",
        "      ### 1st hidden layer\n",
        "      out  = self.linear_1(x)\n",
        "      ### Non-linearity in 1st hidden layer\n",
        "      out = self.relu_1(out)\n",
        "\n",
        "      # Linear layer (output)\n",
        "      probas  = self.linear_out(out)\n",
        "      return probas\n",
        "        \n",
        "  '''\n",
        "  INSTANTIATE MODEL CLASS\n",
        "  '''\n",
        "  model = DeepNeuralNetworkModel(input_size = input_dim,\n",
        "                                num_classes = output_dim)\n",
        "  # To enable GPU\n",
        "  model.to(device)\n",
        "\n",
        "  criterion = nn.CrossEntropyLoss()\n",
        "  optimizer = torch.optim.Adam(model.parameters(), lr = learning_rate)\n",
        "\n",
        "  if experiment_number == 1 and os.path.isfile(root_path + 'Experiment2_Checkpoint1.pth.tar'):\n",
        "    checkpoint = torch.load(root_path + 'Experiment2_Checkpoint1.pth.tar')\n",
        "    print(\"=> Loading checkpoint\")\n",
        "    print(str(checkpoint['iter'])+' iteration complete so far.')\n",
        "    model.load_state_dict(checkpoint['model_state_dict'])\n",
        "    optimizer.load_state_dict(checkpoint['optimizer_state_dict'])\n",
        "    loss = checkpoint['loss']\n",
        "    startingEpoch = checkpoint['epoch']\n",
        "    iteration_loss = checkpoint['iteration_loss']\n",
        "    iter = checkpoint['iter']\n",
        "    model.train()\n",
        "  elif experiment_number == 2 and os.path.isfile(root_path + 'Experiment2_Checkpoint2.pth.tar'):\n",
        "    checkpoint = torch.load(root_path + 'Experiment2_Checkpoint2.pth.tar')\n",
        "    print(\"=> Loading checkpoint\")\n",
        "    print(str(checkpoint['iter'])+' iteration complete so far.')\n",
        "    model.load_state_dict(checkpoint['model_state_dict'])\n",
        "    optimizer.load_state_dict(checkpoint['optimizer_state_dict'])\n",
        "    loss = checkpoint['loss']\n",
        "    startingEpoch = checkpoint['epoch']\n",
        "    iteration_loss = checkpoint['iteration_loss']\n",
        "    iter = checkpoint['iter']\n",
        "    model.train()\n",
        "\n",
        "  if startingEpoch + 1 < num_epochs:\n",
        "    print('Starting Epoch '+ str(startingEpoch + 1))\n",
        "    for epoch in range(startingEpoch, num_epochs):      \n",
        "      for i, (images, labels) in enumerate(train_loader):\n",
        "        \n",
        "        images = images.view(-1, 28*28).to(device)\n",
        "        labels = labels.to(device).type(torch.LongTensor)\n",
        "\n",
        "        \n",
        "        # Clear gradients w.r.t. parameters\n",
        "        optimizer.zero_grad()\n",
        "\n",
        "        # Forward pass to get output/logits\n",
        "        outputs = model(images).cpu()\n",
        "\n",
        "        # Calculate Loss: softmax --> cross entropy loss\n",
        "  \n",
        "        loss = criterion(outputs, labels)\n",
        "\n",
        "        # Getting gradients w.r.t. parameters\n",
        "        loss.backward()\n",
        "\n",
        "        # Updating parameters\n",
        "        optimizer.step()\n",
        "\n",
        "        iter += 1\n",
        "\n",
        "        if iter % 500 == 0:\n",
        "          # Calculate Accuracy         \n",
        "          correct = 0\n",
        "          total = 0\n",
        "          # Iterate through test dataset\n",
        "          for images, labels in test_loader:\n",
        "            \n",
        "            images = images.view(-1, 28*28).to(device)\n",
        "\n",
        "            # Forward pass only to get logits/output\n",
        "            outputs = model(images)\n",
        "\n",
        "            # Get predictions from the maximum value\n",
        "            _, predicted = torch.max(outputs, 1)\n",
        "\n",
        "            # Total number of labels\n",
        "            total += labels.size(0)\n",
        "\n",
        "\n",
        "            # Total correct predictions\n",
        "            if torch.cuda.is_available():\n",
        "              correct += (predicted.cpu() == labels.cpu()).sum() \n",
        "            else:\n",
        "              correct += (predicted == labels).sum()\n",
        "\n",
        "          accuracy = 100 * correct.item() / total\n",
        "          \n",
        "          # Print Loss\n",
        "          iteration_loss.append(loss.item())\n",
        "          print('Iteration: {}. Loss: {}. Accuracy: {}'.format(iter, loss.item(), accuracy))\n",
        "\n",
        "      checkpoint = {'epoch': epoch, \n",
        "                    'model_state_dict': model.state_dict(), \n",
        "                    'optimizer_state_dict': optimizer.state_dict(),\n",
        "                    'loss': loss,\n",
        "                    'iteration_loss': iteration_loss,\n",
        "                    'iter': iter}\n",
        "      print(\"=> Saving checkpoint of epoch \" + str(epoch + 1))\n",
        "      if experiment_number == 1:\n",
        "        torch.save(checkpoint, root_path + 'Experiment2_Checkpoint1.pth.tar')\n",
        "      elif experiment_number == 2:\n",
        "        torch.save(checkpoint, root_path + 'Experiment2_Checkpoint2.pth.tar')\n",
        "  else:\n",
        "    print('Training Complete')\n",
        "\n",
        "  plt.title(\"Loss vs Iteration\")\n",
        "  plt.plot(iteration_loss)\n",
        "  plt.ylabel('Cross Entropy Loss')\n",
        "  plt.xlabel('Iteration (in every 500)')\n",
        "  plt.show()\n",
        "\n",
        "  save_model = True\n",
        "\n",
        "  if save_model is True and experiment_number == 1:\n",
        "    # Saves only parameters\n",
        "    # weights & biases\n",
        "    torch.save(model.state_dict(), root_path + 'Experiment2_NN1.pkl')\n",
        "  elif save_model is True and experiment_number == 2:\n",
        "    # Saves only parameters\n",
        "    # weights & biases\n",
        "    torch.save(model.state_dict(), root_path + 'Experiment2_NN2.pkl')\n",
        "\n",
        "  load_model = True\n",
        "\n",
        "  if load_model is True and experiment_number == 1:\n",
        "    model.load_state_dict(torch.load(root_path + 'Experiment2_NN1.pkl'))\n",
        "    print('Trained Model Loaded')\n",
        "  elif load_model is True and experiment_number == 2:\n",
        "    model.load_state_dict(torch.load(root_path + 'Experiment2_NN2.pkl'))\n",
        "    print('Trained Model Loaded')\n",
        "\n",
        "  y_pred, y_true = get_all_prediction(test_loader, device, model)\n",
        "\n",
        "  print('Accuracy: ' +str(round(accuracy_score(y_true, y_pred) * 100, 4)))\n",
        "  print('Precision: ' +str(round(precision_score(y_true, y_pred, average='micro') * 100, 4)))\n",
        "  print('Recall: ' +str(round(recall_score(y_true, y_pred, average='micro') * 100, 4)))\n",
        "  print('F1 score: ' +str(round(f1_score(y_true, y_pred, average='micro')  * 100, 4)))\n",
        "  confusion_mtx = confusion_matrix(y_true, y_pred)\n",
        "  plot_confusion_matrix(confusion_mtx, classes = range(10))"
      ],
      "execution_count": null,
      "outputs": []
    },
    {
      "cell_type": "markdown",
      "metadata": {
        "id": "MbKjn2zOhM_0"
      },
      "source": [
        "# Model 1"
      ]
    },
    {
      "cell_type": "markdown",
      "metadata": {
        "id": "C4R6x4MvEsOT"
      },
      "source": [
        "## Loading NumtaDB Dataset"
      ]
    },
    {
      "cell_type": "code",
      "metadata": {
        "id": "eG97wmIiaBsc"
      },
      "source": [
        "df = pd.read_csv(root_path + 'Dataset A/numtadb.csv')"
      ],
      "execution_count": null,
      "outputs": []
    },
    {
      "cell_type": "markdown",
      "metadata": {
        "id": "NR_8WF-thlFJ"
      },
      "source": [
        "## Splitting NumtaDB Dataset"
      ]
    },
    {
      "cell_type": "code",
      "metadata": {
        "id": "red2GGG1M5PK"
      },
      "source": [
        "train_dataset, test_dataset = train_test_split(df, test_size=0.2, random_state=42)"
      ],
      "execution_count": null,
      "outputs": []
    },
    {
      "cell_type": "markdown",
      "metadata": {
        "id": "MZoav7Hwh0SK"
      },
      "source": [
        "## Training NumtaDB Dataset"
      ]
    },
    {
      "cell_type": "code",
      "metadata": {
        "id": "vmkMVvf8CLHf",
        "colab": {
          "base_uri": "https://localhost:8080/",
          "height": 1000
        },
        "outputId": "7dafe8a3-aaee-4060-fcba-7be2d35b39e3"
      },
      "source": [
        "train(train_dataset, test_dataset, 1)"
      ],
      "execution_count": null,
      "outputs": [
        {
          "output_type": "stream",
          "name": "stdout",
          "text": [
            "Starting Epoch 1\n",
            "=> Saving checkpoint of epoch 1\n",
            "=> Saving checkpoint of epoch 2\n",
            "=> Saving checkpoint of epoch 3\n",
            "=> Saving checkpoint of epoch 4\n",
            "Iteration: 500. Loss: 1.705772042274475. Accuracy: 45.242324283176856\n",
            "=> Saving checkpoint of epoch 5\n",
            "=> Saving checkpoint of epoch 6\n",
            "=> Saving checkpoint of epoch 7\n",
            "=> Saving checkpoint of epoch 8\n",
            "Iteration: 1000. Loss: 1.360727071762085. Accuracy: 56.02638924130931\n",
            "=> Saving checkpoint of epoch 9\n",
            "=> Saving checkpoint of epoch 10\n",
            "=> Saving checkpoint of epoch 11\n",
            "=> Saving checkpoint of epoch 12\n",
            "Iteration: 1500. Loss: 1.194245457649231. Accuracy: 62.243085511291554\n",
            "=> Saving checkpoint of epoch 13\n",
            "=> Saving checkpoint of epoch 14\n",
            "=> Saving checkpoint of epoch 15\n",
            "=> Saving checkpoint of epoch 16\n",
            "Iteration: 2000. Loss: 1.0192914009094238. Accuracy: 65.74473483887338\n",
            "=> Saving checkpoint of epoch 17\n",
            "=> Saving checkpoint of epoch 18\n",
            "=> Saving checkpoint of epoch 19\n",
            "=> Saving checkpoint of epoch 20\n",
            "Iteration: 2500. Loss: 1.1054201126098633. Accuracy: 67.1656939862979\n",
            "=> Saving checkpoint of epoch 21\n",
            "=> Saving checkpoint of epoch 22\n",
            "=> Saving checkpoint of epoch 23\n",
            "=> Saving checkpoint of epoch 24\n",
            "Iteration: 3000. Loss: 0.8357916474342346. Accuracy: 67.77467647805126\n",
            "=> Saving checkpoint of epoch 25\n",
            "=> Saving checkpoint of epoch 26\n",
            "=> Saving checkpoint of epoch 27\n",
            "=> Saving checkpoint of epoch 28\n",
            "Iteration: 3500. Loss: 0.8394496440887451. Accuracy: 72.01217964983506\n",
            "=> Saving checkpoint of epoch 29\n",
            "=> Saving checkpoint of epoch 30\n",
            "=> Saving checkpoint of epoch 31\n",
            "=> Saving checkpoint of epoch 32\n",
            "Iteration: 4000. Loss: 0.7981839179992676. Accuracy: 74.11824410048212\n",
            "=> Saving checkpoint of epoch 33\n",
            "=> Saving checkpoint of epoch 34\n",
            "=> Saving checkpoint of epoch 35\n",
            "=> Saving checkpoint of epoch 36\n",
            "Iteration: 4500. Loss: 0.8515036106109619. Accuracy: 73.43313879725957\n",
            "=> Saving checkpoint of epoch 37\n",
            "=> Saving checkpoint of epoch 38\n",
            "=> Saving checkpoint of epoch 39\n",
            "=> Saving checkpoint of epoch 40\n",
            "Iteration: 5000. Loss: 0.6419673562049866. Accuracy: 76.32580563308805\n",
            "=> Saving checkpoint of epoch 41\n",
            "=> Saving checkpoint of epoch 42\n",
            "=> Saving checkpoint of epoch 43\n",
            "=> Saving checkpoint of epoch 44\n",
            "Iteration: 5500. Loss: 0.5790351629257202. Accuracy: 73.81375285460543\n",
            "=> Saving checkpoint of epoch 45\n",
            "=> Saving checkpoint of epoch 46\n",
            "=> Saving checkpoint of epoch 47\n",
            "=> Saving checkpoint of epoch 48\n",
            "Iteration: 6000. Loss: 0.815699577331543. Accuracy: 77.92438467394062\n",
            "=> Saving checkpoint of epoch 49\n",
            "=> Saving checkpoint of epoch 50\n",
            "=> Saving checkpoint of epoch 51\n",
            "=> Saving checkpoint of epoch 52\n",
            "Iteration: 6500. Loss: 0.5570676326751709. Accuracy: 81.12154275564578\n",
            "=> Saving checkpoint of epoch 53\n",
            "=> Saving checkpoint of epoch 54\n",
            "=> Saving checkpoint of epoch 55\n",
            "=> Saving checkpoint of epoch 56\n",
            "Iteration: 7000. Loss: 0.31683769822120667. Accuracy: 77.51839634610505\n",
            "=> Saving checkpoint of epoch 57\n",
            "=> Saving checkpoint of epoch 58\n",
            "=> Saving checkpoint of epoch 59\n",
            "=> Saving checkpoint of epoch 60\n",
            "Iteration: 7500. Loss: 0.4388040602207184. Accuracy: 80.69018015732048\n",
            "=> Saving checkpoint of epoch 61\n",
            "=> Saving checkpoint of epoch 62\n",
            "=> Saving checkpoint of epoch 63\n",
            "=> Saving checkpoint of epoch 64\n",
            "Iteration: 8000. Loss: 0.6055270433425903. Accuracy: 81.27378837858411\n",
            "=> Saving checkpoint of epoch 65\n",
            "=> Saving checkpoint of epoch 66\n",
            "=> Saving checkpoint of epoch 67\n",
            "=> Saving checkpoint of epoch 68\n",
            "Iteration: 8500. Loss: 0.5585511326789856. Accuracy: 82.89774168992642\n",
            "=> Saving checkpoint of epoch 69\n",
            "=> Saving checkpoint of epoch 70\n",
            "=> Saving checkpoint of epoch 71\n",
            "=> Saving checkpoint of epoch 72\n",
            "Iteration: 9000. Loss: 0.3871065676212311. Accuracy: 81.93351941131692\n",
            "=> Saving checkpoint of epoch 73\n",
            "=> Saving checkpoint of epoch 74\n",
            "=> Saving checkpoint of epoch 75\n",
            "=> Saving checkpoint of epoch 76\n",
            "Iteration: 9500. Loss: 0.39433085918426514. Accuracy: 83.17685866531338\n",
            "=> Saving checkpoint of epoch 77\n",
            "=> Saving checkpoint of epoch 78\n",
            "=> Saving checkpoint of epoch 79\n",
            "=> Saving checkpoint of epoch 80\n",
            "Iteration: 10000. Loss: 0.38302692770957947. Accuracy: 82.41563055062167\n",
            "=> Saving checkpoint of epoch 81\n",
            "=> Saving checkpoint of epoch 82\n",
            "=> Saving checkpoint of epoch 83\n",
            "=> Saving checkpoint of epoch 84\n",
            "Iteration: 10500. Loss: 0.4345143139362335. Accuracy: 83.5320984521695\n",
            "=> Saving checkpoint of epoch 85\n",
            "=> Saving checkpoint of epoch 86\n",
            "=> Saving checkpoint of epoch 87\n",
            "=> Saving checkpoint of epoch 88\n",
            "Iteration: 11000. Loss: 0.22981023788452148. Accuracy: 82.74549606698807\n",
            "=> Saving checkpoint of epoch 89\n",
            "=> Saving checkpoint of epoch 90\n",
            "=> Saving checkpoint of epoch 91\n",
            "=> Saving checkpoint of epoch 92\n",
            "Iteration: 11500. Loss: 0.3334799110889435. Accuracy: 83.48134991119005\n",
            "=> Saving checkpoint of epoch 93\n",
            "=> Saving checkpoint of epoch 94\n",
            "=> Saving checkpoint of epoch 95\n",
            "=> Saving checkpoint of epoch 96\n",
            "Iteration: 12000. Loss: 0.31620627641677856. Accuracy: 84.3948236488201\n",
            "=> Saving checkpoint of epoch 97\n",
            "=> Saving checkpoint of epoch 98\n",
            "=> Saving checkpoint of epoch 99\n",
            "=> Saving checkpoint of epoch 100\n",
            "Iteration: 12500. Loss: 0.3631020188331604. Accuracy: 85.51129155036793\n",
            "=> Saving checkpoint of epoch 101\n",
            "=> Saving checkpoint of epoch 102\n",
            "=> Saving checkpoint of epoch 103\n",
            "=> Saving checkpoint of epoch 104\n",
            "Iteration: 13000. Loss: 0.3841003179550171. Accuracy: 83.27835574727227\n",
            "=> Saving checkpoint of epoch 105\n",
            "=> Saving checkpoint of epoch 106\n",
            "=> Saving checkpoint of epoch 107\n",
            "=> Saving checkpoint of epoch 108\n",
            "Iteration: 13500. Loss: 0.4373515844345093. Accuracy: 84.42019791930981\n",
            "=> Saving checkpoint of epoch 109\n",
            "=> Saving checkpoint of epoch 110\n",
            "=> Saving checkpoint of epoch 111\n",
            "=> Saving checkpoint of epoch 112\n",
            "Iteration: 14000. Loss: 0.34568262100219727. Accuracy: 84.87693478812484\n",
            "=> Saving checkpoint of epoch 113\n",
            "=> Saving checkpoint of epoch 114\n",
            "=> Saving checkpoint of epoch 115\n",
            "=> Saving checkpoint of epoch 116\n",
            "Iteration: 14500. Loss: 0.2709285616874695. Accuracy: 85.53666582085765\n",
            "=> Saving checkpoint of epoch 117\n",
            "=> Saving checkpoint of epoch 118\n",
            "=> Saving checkpoint of epoch 119\n",
            "=> Saving checkpoint of epoch 120\n",
            "Iteration: 15000. Loss: 0.5783469080924988. Accuracy: 86.83075361583354\n",
            "=> Saving checkpoint of epoch 121\n",
            "=> Saving checkpoint of epoch 122\n",
            "=> Saving checkpoint of epoch 123\n",
            "=> Saving checkpoint of epoch 124\n",
            "Iteration: 15500. Loss: 0.14278267323970795. Accuracy: 84.34407510784065\n",
            "=> Saving checkpoint of epoch 125\n",
            "=> Saving checkpoint of epoch 126\n",
            "=> Saving checkpoint of epoch 127\n",
            "=> Saving checkpoint of epoch 128\n",
            "=> Saving checkpoint of epoch 129\n",
            "Iteration: 16000. Loss: 0.3456507623195648. Accuracy: 85.71428571428571\n",
            "=> Saving checkpoint of epoch 130\n",
            "=> Saving checkpoint of epoch 131\n",
            "=> Saving checkpoint of epoch 132\n",
            "=> Saving checkpoint of epoch 133\n",
            "Iteration: 16500. Loss: 0.6243232488632202. Accuracy: 86.09489977163156\n",
            "=> Saving checkpoint of epoch 134\n",
            "=> Saving checkpoint of epoch 135\n",
            "=> Saving checkpoint of epoch 136\n",
            "=> Saving checkpoint of epoch 137\n",
            "Iteration: 17000. Loss: 0.2315269410610199. Accuracy: 86.19639685359046\n",
            "=> Saving checkpoint of epoch 138\n",
            "=> Saving checkpoint of epoch 139\n",
            "=> Saving checkpoint of epoch 140\n",
            "=> Saving checkpoint of epoch 141\n",
            "Iteration: 17500. Loss: 0.2208501696586609. Accuracy: 86.88150215681299\n",
            "=> Saving checkpoint of epoch 142\n",
            "=> Saving checkpoint of epoch 143\n",
            "=> Saving checkpoint of epoch 144\n",
            "=> Saving checkpoint of epoch 145\n",
            "Iteration: 18000. Loss: 0.30012747645378113. Accuracy: 87.64273027150469\n",
            "=> Saving checkpoint of epoch 146\n",
            "=> Saving checkpoint of epoch 147\n",
            "=> Saving checkpoint of epoch 148\n",
            "=> Saving checkpoint of epoch 149\n",
            "Iteration: 18500. Loss: 0.33695778250694275. Accuracy: 86.32326820603907\n",
            "=> Saving checkpoint of epoch 150\n",
            "=> Saving checkpoint of epoch 151\n",
            "=> Saving checkpoint of epoch 152\n",
            "=> Saving checkpoint of epoch 153\n",
            "Iteration: 19000. Loss: 0.23893815279006958. Accuracy: 84.52169500126871\n",
            "=> Saving checkpoint of epoch 154\n",
            "=> Saving checkpoint of epoch 155\n",
            "=> Saving checkpoint of epoch 156\n",
            "=> Saving checkpoint of epoch 157\n",
            "Iteration: 19500. Loss: 0.16973789036273956. Accuracy: 86.85612788632326\n",
            "=> Saving checkpoint of epoch 158\n",
            "=> Saving checkpoint of epoch 159\n",
            "=> Saving checkpoint of epoch 160\n",
            "=> Saving checkpoint of epoch 161\n",
            "Iteration: 20000. Loss: 0.42455053329467773. Accuracy: 81.88277087033748\n",
            "=> Saving checkpoint of epoch 162\n"
          ]
        },
        {
          "output_type": "display_data",
          "data": {
            "image/png": "[encoded data removed]",
            "text/plain": [
              "<Figure size 432x288 with 1 Axes>"
            ]
          },
          "metadata": {
            "needs_background": "light"
          }
        },
        {
          "output_type": "stream",
          "name": "stdout",
          "text": [
            "Trained Model Loaded\n",
            "Accuracy: 87.5666\n",
            "Precision: 87.5666\n",
            "Recall: 87.5666\n",
            "F1 score: 87.5666\n"
          ]
        },
        {
          "output_type": "display_data",
          "data": {
            "image/png": "[encoded data removed]",
            "text/plain": [
              "<Figure size 432x288 with 2 Axes>"
            ]
          },
          "metadata": {
            "needs_background": "light"
          }
        }
      ]
    },
    {
      "cell_type": "markdown",
      "metadata": {
        "id": "dDZMkQYCjtac"
      },
      "source": [
        "# Model 2"
      ]
    },
    {
      "cell_type": "markdown",
      "metadata": {
        "id": "JMTTa1Kdjtac"
      },
      "source": [
        "## Loading Fashion MNIST Dataset"
      ]
    },
    {
      "cell_type": "code",
      "metadata": {
        "id": "9zuuJ97njtad"
      },
      "source": [
        "train_dataset = pd.read_csv(root_path + \"Dataset_2/verification_train.csv\")\n",
        "test_dataset = pd.read_csv(root_path + \"Dataset_2/verification_test.csv\")"
      ],
      "execution_count": null,
      "outputs": []
    },
    {
      "cell_type": "markdown",
      "metadata": {
        "id": "__YBO2Nhjtae"
      },
      "source": [
        "## Training Fashion MNIST Dataset"
      ]
    },
    {
      "cell_type": "code",
      "metadata": {
        "id": "_q4OjIq7jtae",
        "colab": {
          "base_uri": "https://localhost:8080/",
          "height": 1000
        },
        "outputId": "3bffd9d8-6981-4d1b-efc0-d4f77aec77e3"
      },
      "source": [
        "train(train_dataset, test_dataset, 2)"
      ],
      "execution_count": null,
      "outputs": [
        {
          "output_type": "stream",
          "name": "stdout",
          "text": [
            "Starting Epoch 1\n",
            "=> Saving checkpoint of epoch 1\n",
            "Iteration: 500. Loss: 0.5712444186210632. Accuracy: 86.17\n",
            "=> Saving checkpoint of epoch 2\n",
            "Iteration: 1000. Loss: 0.2736624777317047. Accuracy: 87.2\n",
            "=> Saving checkpoint of epoch 3\n",
            "Iteration: 1500. Loss: 0.514203667640686. Accuracy: 87.77\n",
            "=> Saving checkpoint of epoch 4\n",
            "Iteration: 2000. Loss: 0.2903384268283844. Accuracy: 88.34\n",
            "=> Saving checkpoint of epoch 5\n",
            "Iteration: 2500. Loss: 0.236203134059906. Accuracy: 87.99\n",
            "=> Saving checkpoint of epoch 6\n",
            "Iteration: 3000. Loss: 0.25499317049980164. Accuracy: 88.46\n",
            "=> Saving checkpoint of epoch 7\n",
            "Iteration: 3500. Loss: 0.21370412409305573. Accuracy: 88.44\n",
            "=> Saving checkpoint of epoch 8\n",
            "Iteration: 4000. Loss: 0.3029313385486603. Accuracy: 88.72\n",
            "=> Saving checkpoint of epoch 9\n",
            "Iteration: 4500. Loss: 0.1938418447971344. Accuracy: 89.37\n",
            "=> Saving checkpoint of epoch 10\n",
            "Iteration: 5000. Loss: 0.22120121121406555. Accuracy: 89.39\n",
            "=> Saving checkpoint of epoch 11\n",
            "Iteration: 5500. Loss: 0.28576210141181946. Accuracy: 89.03\n",
            "=> Saving checkpoint of epoch 12\n",
            "Iteration: 6000. Loss: 0.15381206572055817. Accuracy: 89.65\n",
            "=> Saving checkpoint of epoch 13\n",
            "Iteration: 6500. Loss: 0.15329928696155548. Accuracy: 89.22\n",
            "=> Saving checkpoint of epoch 14\n",
            "Iteration: 7000. Loss: 0.16623294353485107. Accuracy: 89.04\n",
            "=> Saving checkpoint of epoch 15\n",
            "Iteration: 7500. Loss: 0.22580504417419434. Accuracy: 89.91\n",
            "=> Saving checkpoint of epoch 16\n",
            "=> Saving checkpoint of epoch 17\n",
            "Iteration: 8000. Loss: 0.1709911972284317. Accuracy: 89.29\n",
            "=> Saving checkpoint of epoch 18\n",
            "Iteration: 8500. Loss: 0.15909846127033234. Accuracy: 89.71\n",
            "=> Saving checkpoint of epoch 19\n",
            "Iteration: 9000. Loss: 0.19664040207862854. Accuracy: 89.26\n",
            "=> Saving checkpoint of epoch 20\n",
            "Iteration: 9500. Loss: 0.10412579029798508. Accuracy: 89.34\n",
            "=> Saving checkpoint of epoch 21\n",
            "Iteration: 10000. Loss: 0.1070169135928154. Accuracy: 89.25\n",
            "=> Saving checkpoint of epoch 22\n",
            "Iteration: 10500. Loss: 0.1354721486568451. Accuracy: 89.64\n",
            "=> Saving checkpoint of epoch 23\n",
            "Iteration: 11000. Loss: 0.1897633671760559. Accuracy: 89.75\n",
            "=> Saving checkpoint of epoch 24\n",
            "Iteration: 11500. Loss: 0.1325145810842514. Accuracy: 89.02\n",
            "=> Saving checkpoint of epoch 25\n",
            "Iteration: 12000. Loss: 0.07674816995859146. Accuracy: 89.86\n",
            "=> Saving checkpoint of epoch 26\n",
            "Iteration: 12500. Loss: 0.10946513712406158. Accuracy: 89.86\n",
            "=> Saving checkpoint of epoch 27\n",
            "Iteration: 13000. Loss: 0.1276736557483673. Accuracy: 89.94\n",
            "=> Saving checkpoint of epoch 28\n",
            "Iteration: 13500. Loss: 0.14476442337036133. Accuracy: 89.7\n",
            "=> Saving checkpoint of epoch 29\n",
            "Iteration: 14000. Loss: 0.06901230663061142. Accuracy: 89.82\n",
            "=> Saving checkpoint of epoch 30\n",
            "Iteration: 14500. Loss: 0.24801212549209595. Accuracy: 90.09\n",
            "=> Saving checkpoint of epoch 31\n",
            "Iteration: 15000. Loss: 0.08383295685052872. Accuracy: 89.35\n",
            "=> Saving checkpoint of epoch 32\n",
            "=> Saving checkpoint of epoch 33\n",
            "Iteration: 15500. Loss: 0.08284378051757812. Accuracy: 89.82\n",
            "=> Saving checkpoint of epoch 34\n",
            "Iteration: 16000. Loss: 0.039269302040338516. Accuracy: 89.6\n",
            "=> Saving checkpoint of epoch 35\n",
            "Iteration: 16500. Loss: 0.03269485756754875. Accuracy: 89.41\n",
            "=> Saving checkpoint of epoch 36\n",
            "Iteration: 17000. Loss: 0.07157915085554123. Accuracy: 89.77\n",
            "=> Saving checkpoint of epoch 37\n",
            "Iteration: 17500. Loss: 0.10416695475578308. Accuracy: 89.96\n",
            "=> Saving checkpoint of epoch 38\n",
            "Iteration: 18000. Loss: 0.05278215557336807. Accuracy: 89.71\n",
            "=> Saving checkpoint of epoch 39\n",
            "Iteration: 18500. Loss: 0.09130076318979263. Accuracy: 89.44\n",
            "=> Saving checkpoint of epoch 40\n",
            "Iteration: 19000. Loss: 0.11089278757572174. Accuracy: 89.8\n",
            "=> Saving checkpoint of epoch 41\n",
            "Iteration: 19500. Loss: 0.08517146855592728. Accuracy: 89.33\n",
            "=> Saving checkpoint of epoch 42\n"
          ]
        },
        {
          "output_type": "display_data",
          "data": {
            "image/png": "[encoded data removed]",
            "text/plain": [
              "<Figure size 432x288 with 1 Axes>"
            ]
          },
          "metadata": {
            "needs_background": "light"
          }
        },
        {
          "output_type": "stream",
          "name": "stdout",
          "text": [
            "Trained Model Loaded\n",
            "Accuracy: 89.99\n",
            "Precision: 89.99\n",
            "Recall: 89.99\n",
            "F1 score: 89.99\n"
          ]
        },
        {
          "output_type": "display_data",
          "data": {
            "image/png": "[encoded data removed]",
            "text/plain": [
              "<Figure size 432x288 with 2 Axes>"
            ]
          },
          "metadata": {
            "needs_background": "light"
          }
        }
      ]
    }
  ]
}